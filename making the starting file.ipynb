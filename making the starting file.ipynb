{
 "cells": [
  {
   "cell_type": "code",
   "execution_count": null,
   "metadata": {
    "collapsed": true
   },
   "outputs": [],
   "source": [
    "import os\n",
    "LocusList=os.popen('cut -f 5 /home/flucas/Documents/Bioinformatics/week3/Startfile/Riboswitches\\ Lucas.csv').read().split()\n",
    "\n",
    "LocusFile = open('LocusFile.txt', 'w')\n",
    "print(len(LocusList))\n",
    "\n",
    "for locus in range(1, len(LocusList)):\n",
    "    Locustag = os.popen('agrep -d \"\\>\" -B -y -0 {0} /home/flucas/Documents/Bioinformatics/week3/sequence.txt'.format(LocusList[locus])).read()\n",
    "    LocusFile.write(Locustag)\n",
    "    print(locus, LocusList[locus])\n",
    "\n",
    "LocusFile.close()"
   ]
  },
  {
   "cell_type": "code",
   "execution_count": null,
   "metadata": {
    "collapsed": false,
    "scrolled": false
   },
   "outputs": [],
   "source": [
    "import csv\n",
    "import os\n",
    "\n",
    "LocusList=os.popen('cut -f 5 /home/flucas/Documents/Bioinformatics/week3/Startfile/Riboswitches\\ Lucas.csv').read().split()\n",
    "LocusList.pop(0)\n",
    "\n",
    "L2file = open('/home/flucas/Documents/Bioinformatics/week3/Locusfile2.txt', 'r')\n",
    "L1file = open('/home/flucas/Documents/Bioinformatics/week3/LocusFile.txt', 'r')\n",
    "\n",
    "L2List = L2file.readlines()\n",
    "L1List = L1file.readlines()\n",
    "\n",
    "print(len(L1List), len(L2List), len(LocusList))\n",
    "\n",
    "for i in range(0,len(L1List),2):\n",
    "    newfile = open(\"/home/flucas/Documents/Bioinformatics/week3/Riboswitch_sequences/{0}.fas\".format(LocusList[i//2]), 'w')\n",
    "    newfile.write(L1List[i].replace(\"\\n\",\"\"))\n",
    "    newfile.write(L2List[i])\n",
    "    newfile.write(L2List[i+1].replace(\"\\n\",\"\"))\n",
    "    newfile.write(L1List[i+1])\n",
    "    newfile.close()\n",
    "\n",
    "L1file.close()\n",
    "L2file.close()"
   ]
  },
  {
   "cell_type": "code",
   "execution_count": null,
   "metadata": {
    "collapsed": false,
    "scrolled": true
   },
   "outputs": [],
   "source": [
    "import os\n",
    "import re\n",
    "import fileinput\n",
    "\n",
    "FasFileList=os.popen('ls /home/flucas/Documents/Bioinformatics/week3/Riboswitch_sequences').read().split()\n",
    "\n",
    "for i in range(len(FasFileList)):\n",
    "    f = fileinput.input('/home/flucas/Documents/Bioinformatics/week3/Riboswitch_sequences/{0}'.format(FasFileList[i]))\n",
    "    LineList=[]\n",
    "    for line in f :\n",
    "        LineList.append(line)\n",
    "    f.close()\n",
    "    CurrentFile = open('/home/flucas/Documents/Bioinformatics/week3/Riboswitch_sequences/{0}'.format(FasFileList[i]), 'w')\n",
    "    SearchString = r'(\\>).{4}(\\w+).+?[tag]+\\=(\\w+).+?(\\d+)\\.\\.(\\d+).+?([\\-\\+]).(\\d+).(\\d+).(\\d+)'\n",
    "    SubString = r'\\1\\2|\\3|gene:\\4-\\5|5-UTR:\\7-\\8|\\6|\\9'\n",
    "    NewString = re.sub(SearchString,SubString,LineList[0])\n",
    "    print(NewString)\n",
    "    CurrentFile.write(LineList[0].replace(LineList[0],NewString))\n",
    "    CurrentFile.write(LineList[1])\n",
    "    LineList.clear()\n",
    "    CurrentFile.close()\n"
   ]
  },
  {
   "cell_type": "code",
   "execution_count": null,
   "metadata": {
    "collapsed": false,
    "scrolled": true
   },
   "outputs": [],
   "source": [
    "import os\n",
    "import re\n",
    "\n",
    "LocusList = os.popen('ls -p /home/flucas/Documents/Bioinformatics/week3/Riboswitch_sequences | grep -v /' ).read().split()\n",
    "\n",
    "for i in range(len(LocusList)): \n",
    "    CurrentFile = open('/home/flucas/Documents/Bioinformatics/week3/Riboswitch_sequences/{0}'.format(LocusList[i]), 'r')\n",
    "    os.mkdir('/home/flucas/Documents/Bioinformatics/week3/Riboswitch_sequences/{0}'.format(LocusList[i].replace('.fas','')))\n",
    "    LineList = CurrentFile.readlines()\n",
    "    Header = re.search('.+\\|(\\d+)', LineList[0])\n",
    "    UTRLen = Header.group(1)\n",
    "    for j in range(1, 51+int(UTRLen)):\n",
    "        newfile = open('/home/flucas/Documents/Bioinformatics/week3/Riboswitch_sequences/{0}/{1}'.format(LocusList[i].replace('.fas',''), LocusList[i].replace(\".fas\", \"-\"+str(j)+\".fas\")), 'a')\n",
    "        newfile.write(LineList[0].replace(\"\\n\",\"\\t\") + \"Base: {0} to {1}\\n\".format(0, j))\n",
    "        newfile.write(LineList[1][0:j].replace(\"T\",\"U\"))\n",
    "        newfile.close()\n",
    "    print(LocusList[i], \" is done\")\n",
    "    LineList.clear()\n",
    "    CurrentFile.close()"
   ]
  },
  {
   "cell_type": "code",
   "execution_count": null,
   "metadata": {
    "collapsed": true
   },
   "outputs": [],
   "source": []
  }
 ],
 "metadata": {
  "kernelspec": {
   "display_name": "Python 3",
   "language": "python",
   "name": "python3"
  },
  "language_info": {
   "codemirror_mode": {
    "name": "ipython",
    "version": 3
   },
   "file_extension": ".py",
   "mimetype": "text/x-python",
   "name": "python",
   "nbconvert_exporter": "python",
   "pygments_lexer": "ipython3",
   "version": "3.4.3"
  }
 },
 "nbformat": 4,
 "nbformat_minor": 0
}
